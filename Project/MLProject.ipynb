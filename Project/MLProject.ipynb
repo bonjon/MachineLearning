{
 "cells": [
  {
   "cell_type": "markdown",
   "id": "58c64783",
   "metadata": {},
   "source": [
    "# Machine Learning 2021/2022 Project\n",
    "# Giovanni Pica 1816394\n",
    "## 1 Introduction\n",
    "This project is based on predicting the price of a specific model of used Bmw car. I take the dataset on Kaggle. "
   ]
  },
  {
   "cell_type": "markdown",
   "id": "e9c0deb0",
   "metadata": {},
   "source": [
    "## 2 Load and clean dataset\n",
    "This paragraph is dedicated for the loading and cleaning (if it is required) of the dataset."
   ]
  },
  {
   "cell_type": "code",
   "execution_count": 1,
   "id": "c168e3d2",
   "metadata": {},
   "outputs": [
    {
     "name": "stdout",
     "output_type": "stream",
     "text": [
      "(10781, 9)\n"
     ]
    },
    {
     "data": {
      "text/html": [
       "<div>\n",
       "<style scoped>\n",
       "    .dataframe tbody tr th:only-of-type {\n",
       "        vertical-align: middle;\n",
       "    }\n",
       "\n",
       "    .dataframe tbody tr th {\n",
       "        vertical-align: top;\n",
       "    }\n",
       "\n",
       "    .dataframe thead th {\n",
       "        text-align: right;\n",
       "    }\n",
       "</style>\n",
       "<table border=\"1\" class=\"dataframe\">\n",
       "  <thead>\n",
       "    <tr style=\"text-align: right;\">\n",
       "      <th></th>\n",
       "      <th>model</th>\n",
       "      <th>year</th>\n",
       "      <th>price</th>\n",
       "      <th>transmission</th>\n",
       "      <th>mileage</th>\n",
       "      <th>fuelType</th>\n",
       "      <th>tax</th>\n",
       "      <th>mpg</th>\n",
       "      <th>engineSize</th>\n",
       "    </tr>\n",
       "  </thead>\n",
       "  <tbody>\n",
       "    <tr>\n",
       "      <th>0</th>\n",
       "      <td>5 Series</td>\n",
       "      <td>2014</td>\n",
       "      <td>11200</td>\n",
       "      <td>Automatic</td>\n",
       "      <td>67068</td>\n",
       "      <td>Diesel</td>\n",
       "      <td>125</td>\n",
       "      <td>57.6</td>\n",
       "      <td>2.0</td>\n",
       "    </tr>\n",
       "    <tr>\n",
       "      <th>1</th>\n",
       "      <td>6 Series</td>\n",
       "      <td>2018</td>\n",
       "      <td>27000</td>\n",
       "      <td>Automatic</td>\n",
       "      <td>14827</td>\n",
       "      <td>Petrol</td>\n",
       "      <td>145</td>\n",
       "      <td>42.8</td>\n",
       "      <td>2.0</td>\n",
       "    </tr>\n",
       "    <tr>\n",
       "      <th>2</th>\n",
       "      <td>5 Series</td>\n",
       "      <td>2016</td>\n",
       "      <td>16000</td>\n",
       "      <td>Automatic</td>\n",
       "      <td>62794</td>\n",
       "      <td>Diesel</td>\n",
       "      <td>160</td>\n",
       "      <td>51.4</td>\n",
       "      <td>3.0</td>\n",
       "    </tr>\n",
       "    <tr>\n",
       "      <th>3</th>\n",
       "      <td>1 Series</td>\n",
       "      <td>2017</td>\n",
       "      <td>12750</td>\n",
       "      <td>Automatic</td>\n",
       "      <td>26676</td>\n",
       "      <td>Diesel</td>\n",
       "      <td>145</td>\n",
       "      <td>72.4</td>\n",
       "      <td>1.5</td>\n",
       "    </tr>\n",
       "    <tr>\n",
       "      <th>4</th>\n",
       "      <td>7 Series</td>\n",
       "      <td>2014</td>\n",
       "      <td>14500</td>\n",
       "      <td>Automatic</td>\n",
       "      <td>39554</td>\n",
       "      <td>Diesel</td>\n",
       "      <td>160</td>\n",
       "      <td>50.4</td>\n",
       "      <td>3.0</td>\n",
       "    </tr>\n",
       "  </tbody>\n",
       "</table>\n",
       "</div>"
      ],
      "text/plain": [
       "       model  year  price transmission  mileage fuelType  tax   mpg  \\\n",
       "0   5 Series  2014  11200    Automatic    67068   Diesel  125  57.6   \n",
       "1   6 Series  2018  27000    Automatic    14827   Petrol  145  42.8   \n",
       "2   5 Series  2016  16000    Automatic    62794   Diesel  160  51.4   \n",
       "3   1 Series  2017  12750    Automatic    26676   Diesel  145  72.4   \n",
       "4   7 Series  2014  14500    Automatic    39554   Diesel  160  50.4   \n",
       "\n",
       "   engineSize  \n",
       "0         2.0  \n",
       "1         2.0  \n",
       "2         3.0  \n",
       "3         1.5  \n",
       "4         3.0  "
      ]
     },
     "execution_count": 1,
     "metadata": {},
     "output_type": "execute_result"
    }
   ],
   "source": [
    "import warnings\n",
    "warnings.filterwarnings('ignore')\n",
    "\n",
    "# load dataset\n",
    "import pandas as pd\n",
    "import numpy as np\n",
    "\n",
    "df = pd.read_csv('bmw.csv')\n",
    "print(df.shape)\n",
    "df.head()"
   ]
  },
  {
   "cell_type": "code",
   "execution_count": 2,
   "id": "9d4c3e28",
   "metadata": {},
   "outputs": [
    {
     "data": {
      "text/plain": [
       "model           0\n",
       "year            0\n",
       "price           0\n",
       "transmission    0\n",
       "mileage         0\n",
       "fuelType        0\n",
       "tax             0\n",
       "mpg             0\n",
       "engineSize      0\n",
       "dtype: int64"
      ]
     },
     "execution_count": 2,
     "metadata": {},
     "output_type": "execute_result"
    }
   ],
   "source": [
    "# check for NaN values\n",
    "df.isnull().sum()"
   ]
  },
  {
   "cell_type": "markdown",
   "id": "e1c635bd",
   "metadata": {},
   "source": [
    "So I don't need to clean the dataset"
   ]
  },
  {
   "cell_type": "markdown",
   "id": "5e614370",
   "metadata": {},
   "source": [
    "## 3 Data analysis\n",
    "In this paragraph I illustrate some features of the data and some plots. I decide to use seaborn library for those plots."
   ]
  },
  {
   "cell_type": "code",
   "execution_count": 6,
   "id": "c0c2d692",
   "metadata": {},
   "outputs": [
    {
     "data": {
      "text/plain": [
       "<AxesSubplot:xlabel='transmission', ylabel='count'>"
      ]
     },
     "execution_count": 6,
     "metadata": {},
     "output_type": "execute_result"
    },
    {
     "data": {
      "image/png": "[encoded data removed]",
      "text/plain": [
       "<Figure size 432x288 with 1 Axes>"
      ]
     },
     "metadata": {
      "needs_background": "light"
     },
     "output_type": "display_data"
    }
   ],
   "source": [
    "import matplotlib.pyplot as plt\n",
    "import seaborn as sns\n",
    "\n",
    "# transmission plot\n",
    "sns.countplot(df[\"transmission\"])"
   ]
  },
  {
   "cell_type": "code",
   "execution_count": 20,
   "id": "771cca50",
   "metadata": {},
   "outputs": [
    {
     "data": {
      "text/plain": [
       "<AxesSubplot:xlabel='fuelType', ylabel='count'>"
      ]
     },
     "execution_count": 20,
     "metadata": {},
     "output_type": "execute_result"
    },
    {
     "data": {
      "image/png": "[encoded data removed]",
      "text/plain": [
       "<Figure size 432x288 with 1 Axes>"
      ]
     },
     "metadata": {
      "needs_background": "light"
     },
     "output_type": "display_data"
    }
   ],
   "source": [
    "# fuel type plot\n",
    "sns.countplot(df['fuelType'])"
   ]
  },
  {
   "cell_type": "code",
   "execution_count": 18,
   "id": "dd3628ae",
   "metadata": {},
   "outputs": [
    {
     "data": {
      "text/plain": [
       "<AxesSubplot:xlabel='count', ylabel='year'>"
      ]
     },
     "execution_count": 18,
     "metadata": {},
     "output_type": "execute_result"
    },
    {
     "data": {
      "image/png": "[encoded data removed]",
      "text/plain": [
       "<Figure size 432x288 with 1 Axes>"
      ]
     },
     "metadata": {
      "needs_background": "light"
     },
     "output_type": "display_data"
    }
   ],
   "source": [
    "# year plot\n",
    "sns.countplot(y = df['year'])"
   ]
  },
  {
   "cell_type": "markdown",
   "id": "304200ba",
   "metadata": {},
   "source": [
    "Some plots based on the prices."
   ]
  },
  {
   "cell_type": "code",
   "execution_count": 16,
   "id": "9b7eff2c",
   "metadata": {},
   "outputs": [
    {
     "data": {
      "text/plain": [
       "<AxesSubplot:xlabel='year', ylabel='price'>"
      ]
     },
     "execution_count": 16,
     "metadata": {},
     "output_type": "execute_result"
    },
    {
     "data": {
      "image/png": "[encoded data removed]",
      "text/plain": [
       "<Figure size 1080x360 with 1 Axes>"
      ]
     },
     "metadata": {},
     "output_type": "display_data"
    }
   ],
   "source": [
    "fig = plt.figure(figsize=(15,5),facecolor='w') \n",
    "sns.barplot(x = df[\"year\"], y = df[\"price\"])"
   ]
  },
  {
   "cell_type": "markdown",
   "id": "33b408df",
   "metadata": {},
   "source": [
    "A plot that illustrates the distribution of the target feature."
   ]
  },
  {
   "cell_type": "code",
   "execution_count": 14,
   "id": "c0ce7567",
   "metadata": {},
   "outputs": [
    {
     "data": {
      "text/plain": [
       "(array([ 846., 3554., 3148., 1805.,  690.,  313.,  197.,   97.,   70.,\n",
       "          29.]),\n",
       " array([ 3000., 10700., 18400., 26100., 33800., 41500., 49200., 56900.,\n",
       "        64600., 72300., 80000.]),\n",
       " <BarContainer object of 10 artists>)"
      ]
     },
     "execution_count": 14,
     "metadata": {},
     "output_type": "execute_result"
    },
    {
     "data": {
      "image/png": "[encoded data removed]",
      "text/plain": [
       "<Figure size 432x288 with 1 Axes>"
      ]
     },
     "metadata": {
      "needs_background": "light"
     },
     "output_type": "display_data"
    }
   ],
   "source": [
    "plt.hist(df['price'], bins=10, range=(3000, 80000))"
   ]
  },
  {
   "cell_type": "markdown",
   "id": "59e1ac06",
   "metadata": {},
   "source": [
    "## 3 Preprocessing\n",
    "In this paragraph I show some preprocessing that I do on the data."
   ]
  },
  {
   "cell_type": "code",
   "execution_count": 22,
   "id": "f7fd730d",
   "metadata": {},
   "outputs": [
    {
     "data": {
      "text/html": [
       "<div>\n",
       "<style scoped>\n",
       "    .dataframe tbody tr th:only-of-type {\n",
       "        vertical-align: middle;\n",
       "    }\n",
       "\n",
       "    .dataframe tbody tr th {\n",
       "        vertical-align: top;\n",
       "    }\n",
       "\n",
       "    .dataframe thead th {\n",
       "        text-align: right;\n",
       "    }\n",
       "</style>\n",
       "<table border=\"1\" class=\"dataframe\">\n",
       "  <thead>\n",
       "    <tr style=\"text-align: right;\">\n",
       "      <th></th>\n",
       "      <th>year</th>\n",
       "      <th>price</th>\n",
       "      <th>mileage</th>\n",
       "      <th>tax</th>\n",
       "      <th>mpg</th>\n",
       "      <th>engineSize</th>\n",
       "      <th>model_ 1 Series</th>\n",
       "      <th>model_ 2 Series</th>\n",
       "      <th>model_ 3 Series</th>\n",
       "      <th>model_ 4 Series</th>\n",
       "      <th>...</th>\n",
       "      <th>model_ i3</th>\n",
       "      <th>model_ i8</th>\n",
       "      <th>transmission_Automatic</th>\n",
       "      <th>transmission_Manual</th>\n",
       "      <th>transmission_Semi-Auto</th>\n",
       "      <th>fuelType_Diesel</th>\n",
       "      <th>fuelType_Electric</th>\n",
       "      <th>fuelType_Hybrid</th>\n",
       "      <th>fuelType_Other</th>\n",
       "      <th>fuelType_Petrol</th>\n",
       "    </tr>\n",
       "  </thead>\n",
       "  <tbody>\n",
       "    <tr>\n",
       "      <th>0</th>\n",
       "      <td>2014</td>\n",
       "      <td>11200</td>\n",
       "      <td>67068</td>\n",
       "      <td>125</td>\n",
       "      <td>57.6</td>\n",
       "      <td>2.0</td>\n",
       "      <td>0</td>\n",
       "      <td>0</td>\n",
       "      <td>0</td>\n",
       "      <td>0</td>\n",
       "      <td>...</td>\n",
       "      <td>0</td>\n",
       "      <td>0</td>\n",
       "      <td>1</td>\n",
       "      <td>0</td>\n",
       "      <td>0</td>\n",
       "      <td>1</td>\n",
       "      <td>0</td>\n",
       "      <td>0</td>\n",
       "      <td>0</td>\n",
       "      <td>0</td>\n",
       "    </tr>\n",
       "    <tr>\n",
       "      <th>1</th>\n",
       "      <td>2018</td>\n",
       "      <td>27000</td>\n",
       "      <td>14827</td>\n",
       "      <td>145</td>\n",
       "      <td>42.8</td>\n",
       "      <td>2.0</td>\n",
       "      <td>0</td>\n",
       "      <td>0</td>\n",
       "      <td>0</td>\n",
       "      <td>0</td>\n",
       "      <td>...</td>\n",
       "      <td>0</td>\n",
       "      <td>0</td>\n",
       "      <td>1</td>\n",
       "      <td>0</td>\n",
       "      <td>0</td>\n",
       "      <td>0</td>\n",
       "      <td>0</td>\n",
       "      <td>0</td>\n",
       "      <td>0</td>\n",
       "      <td>1</td>\n",
       "    </tr>\n",
       "    <tr>\n",
       "      <th>2</th>\n",
       "      <td>2016</td>\n",
       "      <td>16000</td>\n",
       "      <td>62794</td>\n",
       "      <td>160</td>\n",
       "      <td>51.4</td>\n",
       "      <td>3.0</td>\n",
       "      <td>0</td>\n",
       "      <td>0</td>\n",
       "      <td>0</td>\n",
       "      <td>0</td>\n",
       "      <td>...</td>\n",
       "      <td>0</td>\n",
       "      <td>0</td>\n",
       "      <td>1</td>\n",
       "      <td>0</td>\n",
       "      <td>0</td>\n",
       "      <td>1</td>\n",
       "      <td>0</td>\n",
       "      <td>0</td>\n",
       "      <td>0</td>\n",
       "      <td>0</td>\n",
       "    </tr>\n",
       "    <tr>\n",
       "      <th>3</th>\n",
       "      <td>2017</td>\n",
       "      <td>12750</td>\n",
       "      <td>26676</td>\n",
       "      <td>145</td>\n",
       "      <td>72.4</td>\n",
       "      <td>1.5</td>\n",
       "      <td>1</td>\n",
       "      <td>0</td>\n",
       "      <td>0</td>\n",
       "      <td>0</td>\n",
       "      <td>...</td>\n",
       "      <td>0</td>\n",
       "      <td>0</td>\n",
       "      <td>1</td>\n",
       "      <td>0</td>\n",
       "      <td>0</td>\n",
       "      <td>1</td>\n",
       "      <td>0</td>\n",
       "      <td>0</td>\n",
       "      <td>0</td>\n",
       "      <td>0</td>\n",
       "    </tr>\n",
       "    <tr>\n",
       "      <th>4</th>\n",
       "      <td>2014</td>\n",
       "      <td>14500</td>\n",
       "      <td>39554</td>\n",
       "      <td>160</td>\n",
       "      <td>50.4</td>\n",
       "      <td>3.0</td>\n",
       "      <td>0</td>\n",
       "      <td>0</td>\n",
       "      <td>0</td>\n",
       "      <td>0</td>\n",
       "      <td>...</td>\n",
       "      <td>0</td>\n",
       "      <td>0</td>\n",
       "      <td>1</td>\n",
       "      <td>0</td>\n",
       "      <td>0</td>\n",
       "      <td>1</td>\n",
       "      <td>0</td>\n",
       "      <td>0</td>\n",
       "      <td>0</td>\n",
       "      <td>0</td>\n",
       "    </tr>\n",
       "  </tbody>\n",
       "</table>\n",
       "<p>5 rows × 38 columns</p>\n",
       "</div>"
      ],
      "text/plain": [
       "   year  price  mileage  tax   mpg  engineSize  model_ 1 Series  \\\n",
       "0  2014  11200    67068  125  57.6         2.0                0   \n",
       "1  2018  27000    14827  145  42.8         2.0                0   \n",
       "2  2016  16000    62794  160  51.4         3.0                0   \n",
       "3  2017  12750    26676  145  72.4         1.5                1   \n",
       "4  2014  14500    39554  160  50.4         3.0                0   \n",
       "\n",
       "   model_ 2 Series  model_ 3 Series  model_ 4 Series  ...  model_ i3  \\\n",
       "0                0                0                0  ...          0   \n",
       "1                0                0                0  ...          0   \n",
       "2                0                0                0  ...          0   \n",
       "3                0                0                0  ...          0   \n",
       "4                0                0                0  ...          0   \n",
       "\n",
       "   model_ i8  transmission_Automatic  transmission_Manual  \\\n",
       "0          0                       1                    0   \n",
       "1          0                       1                    0   \n",
       "2          0                       1                    0   \n",
       "3          0                       1                    0   \n",
       "4          0                       1                    0   \n",
       "\n",
       "   transmission_Semi-Auto  fuelType_Diesel  fuelType_Electric  \\\n",
       "0                       0                1                  0   \n",
       "1                       0                0                  0   \n",
       "2                       0                1                  0   \n",
       "3                       0                1                  0   \n",
       "4                       0                1                  0   \n",
       "\n",
       "   fuelType_Hybrid  fuelType_Other  fuelType_Petrol  \n",
       "0                0               0                0  \n",
       "1                0               0                1  \n",
       "2                0               0                0  \n",
       "3                0               0                0  \n",
       "4                0               0                0  \n",
       "\n",
       "[5 rows x 38 columns]"
      ]
     },
     "execution_count": 22,
     "metadata": {},
     "output_type": "execute_result"
    }
   ],
   "source": [
    "# OneHotEncoding on model name using get_dummies of pandas library\n",
    "df_encoded = pd.get_dummies(df)\n",
    "df_encoded.head()"
   ]
  },
  {
   "cell_type": "code",
   "execution_count": 23,
   "id": "79d06ecc",
   "metadata": {},
   "outputs": [
    {
     "name": "stdout",
     "output_type": "stream",
     "text": [
      "(10781, 38)\n"
     ]
    },
    {
     "data": {
      "text/html": [
       "<div>\n",
       "<style scoped>\n",
       "    .dataframe tbody tr th:only-of-type {\n",
       "        vertical-align: middle;\n",
       "    }\n",
       "\n",
       "    .dataframe tbody tr th {\n",
       "        vertical-align: top;\n",
       "    }\n",
       "\n",
       "    .dataframe thead th {\n",
       "        text-align: right;\n",
       "    }\n",
       "</style>\n",
       "<table border=\"1\" class=\"dataframe\">\n",
       "  <thead>\n",
       "    <tr style=\"text-align: right;\">\n",
       "      <th></th>\n",
       "      <th>year</th>\n",
       "      <th>price</th>\n",
       "      <th>mileage</th>\n",
       "      <th>tax</th>\n",
       "      <th>mpg</th>\n",
       "      <th>engineSize</th>\n",
       "      <th>model_ 1 Series</th>\n",
       "      <th>model_ 2 Series</th>\n",
       "      <th>model_ 3 Series</th>\n",
       "      <th>model_ 4 Series</th>\n",
       "      <th>...</th>\n",
       "      <th>model_ i3</th>\n",
       "      <th>model_ i8</th>\n",
       "      <th>transmission_Automatic</th>\n",
       "      <th>transmission_Manual</th>\n",
       "      <th>transmission_Semi-Auto</th>\n",
       "      <th>fuelType_Diesel</th>\n",
       "      <th>fuelType_Electric</th>\n",
       "      <th>fuelType_Hybrid</th>\n",
       "      <th>fuelType_Other</th>\n",
       "      <th>fuelType_Petrol</th>\n",
       "    </tr>\n",
       "  </thead>\n",
       "  <tbody>\n",
       "    <tr>\n",
       "      <th>0</th>\n",
       "      <td>-1.310782</td>\n",
       "      <td>-1.010373</td>\n",
       "      <td>1.653447</td>\n",
       "      <td>-0.108963</td>\n",
       "      <td>0.038326</td>\n",
       "      <td>-0.303911</td>\n",
       "      <td>-0.472700</td>\n",
       "      <td>-0.358698</td>\n",
       "      <td>-0.541291</td>\n",
       "      <td>-0.318867</td>\n",
       "      <td>...</td>\n",
       "      <td>-0.063281</td>\n",
       "      <td>-0.039741</td>\n",
       "      <td>1.415888</td>\n",
       "      <td>-0.553312</td>\n",
       "      <td>-0.873523</td>\n",
       "      <td>0.730907</td>\n",
       "      <td>-0.016684</td>\n",
       "      <td>-0.168603</td>\n",
       "      <td>-0.057883</td>\n",
       "      <td>-0.681186</td>\n",
       "    </tr>\n",
       "    <tr>\n",
       "      <th>1</th>\n",
       "      <td>0.392121</td>\n",
       "      <td>0.373771</td>\n",
       "      <td>-0.424388</td>\n",
       "      <td>0.216199</td>\n",
       "      <td>-0.433982</td>\n",
       "      <td>-0.303911</td>\n",
       "      <td>-0.472700</td>\n",
       "      <td>-0.358698</td>\n",
       "      <td>-0.541291</td>\n",
       "      <td>-0.318867</td>\n",
       "      <td>...</td>\n",
       "      <td>-0.063281</td>\n",
       "      <td>-0.039741</td>\n",
       "      <td>1.415888</td>\n",
       "      <td>-0.553312</td>\n",
       "      <td>-0.873523</td>\n",
       "      <td>-1.368163</td>\n",
       "      <td>-0.016684</td>\n",
       "      <td>-0.168603</td>\n",
       "      <td>-0.057883</td>\n",
       "      <td>1.468028</td>\n",
       "    </tr>\n",
       "    <tr>\n",
       "      <th>2</th>\n",
       "      <td>-0.459331</td>\n",
       "      <td>-0.589874</td>\n",
       "      <td>1.483453</td>\n",
       "      <td>0.460070</td>\n",
       "      <td>-0.159533</td>\n",
       "      <td>1.507591</td>\n",
       "      <td>-0.472700</td>\n",
       "      <td>-0.358698</td>\n",
       "      <td>-0.541291</td>\n",
       "      <td>-0.318867</td>\n",
       "      <td>...</td>\n",
       "      <td>-0.063281</td>\n",
       "      <td>-0.039741</td>\n",
       "      <td>1.415888</td>\n",
       "      <td>-0.553312</td>\n",
       "      <td>-0.873523</td>\n",
       "      <td>0.730907</td>\n",
       "      <td>-0.016684</td>\n",
       "      <td>-0.168603</td>\n",
       "      <td>-0.057883</td>\n",
       "      <td>-0.681186</td>\n",
       "    </tr>\n",
       "    <tr>\n",
       "      <th>3</th>\n",
       "      <td>-0.033605</td>\n",
       "      <td>-0.874587</td>\n",
       "      <td>0.046894</td>\n",
       "      <td>0.216199</td>\n",
       "      <td>0.510634</td>\n",
       "      <td>-1.209662</td>\n",
       "      <td>2.115507</td>\n",
       "      <td>-0.358698</td>\n",
       "      <td>-0.541291</td>\n",
       "      <td>-0.318867</td>\n",
       "      <td>...</td>\n",
       "      <td>-0.063281</td>\n",
       "      <td>-0.039741</td>\n",
       "      <td>1.415888</td>\n",
       "      <td>-0.553312</td>\n",
       "      <td>-0.873523</td>\n",
       "      <td>0.730907</td>\n",
       "      <td>-0.016684</td>\n",
       "      <td>-0.168603</td>\n",
       "      <td>-0.057883</td>\n",
       "      <td>-0.681186</td>\n",
       "    </tr>\n",
       "    <tr>\n",
       "      <th>4</th>\n",
       "      <td>-1.310782</td>\n",
       "      <td>-0.721280</td>\n",
       "      <td>0.559104</td>\n",
       "      <td>0.460070</td>\n",
       "      <td>-0.191445</td>\n",
       "      <td>1.507591</td>\n",
       "      <td>-0.472700</td>\n",
       "      <td>-0.358698</td>\n",
       "      <td>-0.541291</td>\n",
       "      <td>-0.318867</td>\n",
       "      <td>...</td>\n",
       "      <td>-0.063281</td>\n",
       "      <td>-0.039741</td>\n",
       "      <td>1.415888</td>\n",
       "      <td>-0.553312</td>\n",
       "      <td>-0.873523</td>\n",
       "      <td>0.730907</td>\n",
       "      <td>-0.016684</td>\n",
       "      <td>-0.168603</td>\n",
       "      <td>-0.057883</td>\n",
       "      <td>-0.681186</td>\n",
       "    </tr>\n",
       "  </tbody>\n",
       "</table>\n",
       "<p>5 rows × 38 columns</p>\n",
       "</div>"
      ],
      "text/plain": [
       "       year     price   mileage       tax       mpg  engineSize  \\\n",
       "0 -1.310782 -1.010373  1.653447 -0.108963  0.038326   -0.303911   \n",
       "1  0.392121  0.373771 -0.424388  0.216199 -0.433982   -0.303911   \n",
       "2 -0.459331 -0.589874  1.483453  0.460070 -0.159533    1.507591   \n",
       "3 -0.033605 -0.874587  0.046894  0.216199  0.510634   -1.209662   \n",
       "4 -1.310782 -0.721280  0.559104  0.460070 -0.191445    1.507591   \n",
       "\n",
       "   model_ 1 Series  model_ 2 Series  model_ 3 Series  model_ 4 Series  ...  \\\n",
       "0        -0.472700        -0.358698        -0.541291        -0.318867  ...   \n",
       "1        -0.472700        -0.358698        -0.541291        -0.318867  ...   \n",
       "2        -0.472700        -0.358698        -0.541291        -0.318867  ...   \n",
       "3         2.115507        -0.358698        -0.541291        -0.318867  ...   \n",
       "4        -0.472700        -0.358698        -0.541291        -0.318867  ...   \n",
       "\n",
       "   model_ i3  model_ i8  transmission_Automatic  transmission_Manual  \\\n",
       "0  -0.063281  -0.039741                1.415888            -0.553312   \n",
       "1  -0.063281  -0.039741                1.415888            -0.553312   \n",
       "2  -0.063281  -0.039741                1.415888            -0.553312   \n",
       "3  -0.063281  -0.039741                1.415888            -0.553312   \n",
       "4  -0.063281  -0.039741                1.415888            -0.553312   \n",
       "\n",
       "   transmission_Semi-Auto  fuelType_Diesel  fuelType_Electric  \\\n",
       "0               -0.873523         0.730907          -0.016684   \n",
       "1               -0.873523        -1.368163          -0.016684   \n",
       "2               -0.873523         0.730907          -0.016684   \n",
       "3               -0.873523         0.730907          -0.016684   \n",
       "4               -0.873523         0.730907          -0.016684   \n",
       "\n",
       "   fuelType_Hybrid  fuelType_Other  fuelType_Petrol  \n",
       "0        -0.168603       -0.057883        -0.681186  \n",
       "1        -0.168603       -0.057883         1.468028  \n",
       "2        -0.168603       -0.057883        -0.681186  \n",
       "3        -0.168603       -0.057883        -0.681186  \n",
       "4        -0.168603       -0.057883        -0.681186  \n",
       "\n",
       "[5 rows x 38 columns]"
      ]
     },
     "execution_count": 23,
     "metadata": {},
     "output_type": "execute_result"
    }
   ],
   "source": [
    "from sklearn import preprocessing\n",
    "\n",
    "# scaling data\n",
    "df_encoded_scaled = pd.DataFrame(preprocessing.scale(df_encoded), columns=df_encoded.columns)\n",
    "print(df_encoded.shape)\n",
    "df_encoded_scaled.head()"
   ]
  },
  {
   "cell_type": "markdown",
   "id": "7ac332ac",
   "metadata": {},
   "source": [
    "I also perform feature importance with a RandomForestRegressor according to permutation importance."
   ]
  },
  {
   "cell_type": "code",
   "execution_count": 25,
   "id": "ef9e42e2",
   "metadata": {},
   "outputs": [
    {
     "data": {
      "image/png": "[encoded data removed]",
      "text/plain": [
       "<Figure size 720x1800 with 1 Axes>"
      ]
     },
     "metadata": {
      "needs_background": "light"
     },
     "output_type": "display_data"
    }
   ],
   "source": [
    "X = df_encoded_scaled.drop(columns=['price'])\n",
    "y = df_encoded_scaled[['price']]\n",
    "\n",
    "from sklearn.ensemble import RandomForestRegressor\n",
    "from sklearn.inspection import permutation_importance\n",
    "\n",
    "# define the model\n",
    "model = RandomForestRegressor(n_estimators=50,n_jobs=-1, oob_score=True)\n",
    "# fit the model\n",
    "model.fit(X, y)\n",
    "\n",
    "# perform permutation importance\n",
    "results = permutation_importance(model, X, y, random_state=0, scoring='neg_mean_squared_error')\n",
    "\n",
    "# get importance\n",
    "importance = results.importances_mean\n",
    "\n",
    "# Plot\n",
    "# plot feature importance\n",
    "pd.Series(importance, index=X.columns).nlargest(len(importance)).plot(figsize=(10,25),kind='barh')\n",
    "plt.show()"
   ]
  },
  {
   "cell_type": "markdown",
   "id": "9f55eb6a",
   "metadata": {},
   "source": [
    "Now I split the dataset in train and testing set, I decide to give 33% to test set and 67% to train set."
   ]
  },
  {
   "cell_type": "code",
   "execution_count": 26,
   "id": "a62e7e4b",
   "metadata": {},
   "outputs": [
    {
     "name": "stdout",
     "output_type": "stream",
     "text": [
      "(7223, 37)\n",
      "(3558, 37)\n",
      "(7223, 1)\n",
      "(3558, 1)\n"
     ]
    }
   ],
   "source": [
    "from sklearn.model_selection import train_test_split\n",
    "\n",
    "# splitting\n",
    "X_train,X_test,y_train,y_test = train_test_split(X,y,test_size=0.33,random_state=0)\n",
    "print(X_train.shape)\n",
    "print(X_test.shape)\n",
    "print(y_train.shape)\n",
    "print(y_test.shape)"
   ]
  },
  {
   "cell_type": "markdown",
   "id": "cd87ea1b",
   "metadata": {},
   "source": [
    "## 4 Modeling\n",
    "For the choice of the model I have considered:\n",
    "- Linear Regressor;\n",
    "- Support Vector Regressor;\n",
    "- Decision Tree Regressor;\n",
    "- Random Forest Regressor;\n",
    "- MLPRegressor."
   ]
  },
  {
   "cell_type": "code",
   "execution_count": 27,
   "id": "b543df0e",
   "metadata": {},
   "outputs": [],
   "source": [
    "from sklearn.linear_model import LinearRegression\n",
    "from sklearn import svm, tree\n",
    "from sklearn.ensemble import RandomForestRegressor\n",
    "from sklearn.neural_network import MLPRegressor\n",
    "\n",
    "# LR\n",
    "lr = LinearRegression()\n",
    "\n",
    "# SVM\n",
    "svr = svm.SVR()\n",
    "\n",
    "# DTR\n",
    "dtr = tree.DecisionTreeRegressor()\n",
    "\n",
    "# RFR\n",
    "rfr = RandomForestRegressor()\n",
    "\n",
    "# MLPR\n",
    "mlpr = MLPRegressor()"
   ]
  },
  {
   "cell_type": "markdown",
   "id": "8be8b9e5",
   "metadata": {},
   "source": [
    "I also perform HyperParameter tuning on SVR, DTR, RFR, MLPR based on MSE."
   ]
  },
  {
   "cell_type": "code",
   "execution_count": 28,
   "id": "650d0cc5",
   "metadata": {},
   "outputs": [
    {
     "name": "stdout",
     "output_type": "stream",
     "text": [
      "Best Score: -0.158332422174087\n",
      "Best Hyperparameters: {'C': 25, 'gamma': 0.1, 'kernel': 'rbf'}\n"
     ]
    }
   ],
   "source": [
    "# HyperParameter tuning on SVR\n",
    "from sklearn.model_selection import cross_val_score\n",
    "from sklearn.model_selection import GridSearchCV\n",
    "tuned_parameters = [{'C': [1, 25,50, 100],\n",
    "    'gamma': [1e-3, 1e-5, 1e-7, 0.1],\n",
    "    'kernel': ['rbf']}]\n",
    "search = GridSearchCV(svr, tuned_parameters, scoring='neg_mean_absolute_error', n_jobs=-1)\n",
    "\n",
    "# execute search\n",
    "result = search.fit(X, y)\n",
    "\n",
    "# summarize result\n",
    "print('Best Score: %s' % result.best_score_)\n",
    "print('Best Hyperparameters: %s' % result.best_params_)"
   ]
  },
  {
   "cell_type": "code",
   "execution_count": 29,
   "id": "4edba473",
   "metadata": {},
   "outputs": [
    {
     "name": "stdout",
     "output_type": "stream",
     "text": [
      "Best Score: -0.17669011053432637\n",
      "Best Hyperparameters: {'max_depth': 100, 'min_samples_leaf': 5, 'splitter': 'best'}\n"
     ]
    }
   ],
   "source": [
    "# HyperParameter tuning on DTR\n",
    "tuned_parameters = [{\"splitter\":[\"best\",\"random\"],\n",
    "            \"max_depth\" : [1, 20, 50,100],\n",
    "           \"min_samples_leaf\":[1,5,20,50]}]\n",
    "search = GridSearchCV(dtr, tuned_parameters, scoring='neg_mean_absolute_error', n_jobs=-1)\n",
    "\n",
    "# execute search\n",
    "result = search.fit(X, y)\n",
    "\n",
    "# summarize result\n",
    "print('Best Score: %s' % result.best_score_)\n",
    "print('Best Hyperparameters: %s' % result.best_params_)"
   ]
  },
  {
   "cell_type": "code",
   "execution_count": 30,
   "id": "80ee07d3",
   "metadata": {},
   "outputs": [
    {
     "name": "stdout",
     "output_type": "stream",
     "text": [
      "Best Score: -0.1603340096626921\n",
      "Best Hyperparameters: {'max_depth': 100, 'min_samples_leaf': 5, 'n_estimators': 500}\n"
     ]
    }
   ],
   "source": [
    "# HyperParameter tuning on RFR\n",
    "tuned_parameters = [{'max_depth': [5, 10, 50, 100],\n",
    "    'min_samples_leaf': [5, 10, 50],\n",
    "    'n_estimators': [10, 100 ,500]}]\n",
    "search = GridSearchCV(rfr, tuned_parameters, scoring='neg_mean_absolute_error', n_jobs=-1)\n",
    "\n",
    "# execute search\n",
    "result = search.fit(X, y)\n",
    "\n",
    "# summarize result\n",
    "print('Best Score: %s' % result.best_score_)\n",
    "print('Best Hyperparameters: %s' % result.best_params_)"
   ]
  },
  {
   "cell_type": "code",
   "execution_count": 33,
   "id": "788ad31e",
   "metadata": {},
   "outputs": [
    {
     "name": "stdout",
     "output_type": "stream",
     "text": [
      "Best Score: -0.15246707622547537\n",
      "Best Hyperparameters: {'alpha': 0.1, 'hidden_layer_sizes': (50, 100, 50), 'solver': 'lbfgs'}\n"
     ]
    }
   ],
   "source": [
    "# HyperParameter tuning on MLPR\n",
    "tuned_parameters = [{'hidden_layer_sizes': [(10, 10, 10), (50,50,50), (50, 100, 50)],\n",
    "    'solver': ['sgd', 'adam', 'lbfgs'],\n",
    "    'alpha': [1e-3,1e-5, 1e-7, 0.1],}]\n",
    "search = GridSearchCV(mlpr, tuned_parameters, scoring='neg_mean_absolute_error', n_jobs=-1)\n",
    "\n",
    "# execute search\n",
    "result = search.fit(X, y)\n",
    "\n",
    "# summarize result\n",
    "print('Best Score: %s' % result.best_score_)\n",
    "print('Best Hyperparameters: %s' % result.best_params_)"
   ]
  },
  {
   "cell_type": "markdown",
   "id": "e53140d8",
   "metadata": {},
   "source": [
    "Now I have all the models tuned and I can compare them."
   ]
  },
  {
   "cell_type": "code",
   "execution_count": 46,
   "id": "f791c550",
   "metadata": {},
   "outputs": [
    {
     "name": "stdout",
     "output_type": "stream",
     "text": [
      "{LinearRegression(): 0.8456353481382997, SVR(C=25, gamma=0.1): 0.91203789426966, DecisionTreeRegressor(max_depth=20, min_samples_leaf=5): 0.9022636219121302, RandomForestRegressor(max_depth=100, min_samples_leaf=5, n_estimators=500,\n",
      "                      n_jobs=-1): 0.9115913987283445, MLPRegressor(alpha=0.1, hidden_layer_sizes=(50, 100, 50), solver='lbfgs'): 0.9193498202449732}\n"
     ]
    }
   ],
   "source": [
    "# function that return a regressor and its R^2 score.\n",
    "def regression_model(model):\n",
    "    \"\"\"\n",
    "    Will fit the regression model passed and will return the regressor object and the score\n",
    "    \"\"\"\n",
    "    regressor = model\n",
    "    regressor.fit(X_train, y_train)\n",
    "    score = regressor.score(X_test, y_test)\n",
    "    return regressor, score\n",
    "\n",
    "model_performance = {}\n",
    "\n",
    "models_to_evaluate = [LinearRegression(), svm.SVR(C=25, gamma=0.1, kernel='rbf'), tree.DecisionTreeRegressor(max_depth=20, \n",
    "min_samples_leaf=5, splitter='best'), RandomForestRegressor(n_jobs = -1,max_depth=100, min_samples_leaf=5, n_estimators=500), \n",
    "MLPRegressor(alpha=0.1, hidden_layer_sizes=(50,100,50), solver='lbfgs')]\n",
    "\n",
    "for model in models_to_evaluate:\n",
    "    regressor, score = regression_model(model)\n",
    "    model_performance[model] = score\n",
    "print(model_performance)"
   ]
  },
  {
   "cell_type": "markdown",
   "id": "286ba7c9",
   "metadata": {},
   "source": [
    "In the comparison I found that MLPRegressor is the best model for our purpose."
   ]
  }
 ],
 "metadata": {
  "kernelspec": {
   "display_name": "Python 3 (ipykernel)",
   "language": "python",
   "name": "python3"
  },
  "language_info": {
   "codemirror_mode": {
    "name": "ipython",
    "version": 3
   },
   "file_extension": ".py",
   "mimetype": "text/x-python",
   "name": "python",
   "nbconvert_exporter": "python",
   "pygments_lexer": "ipython3",
   "version": "3.7.8"
  }
 },
 "nbformat": 4,
 "nbformat_minor": 5
}
